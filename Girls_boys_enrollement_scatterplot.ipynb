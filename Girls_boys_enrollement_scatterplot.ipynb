{
 "cells": [
  {
   "cell_type": "markdown",
   "id": "37c69e97",
   "metadata": {},
   "source": [
    "# Gender Parity Analysis in Indian Education System\n",
    "\n",
    "## Using Scatter Plot Visualizations for Policy-Relevant Insights\n",
    "\n",
    "This notebook analyzes gender parity in student enrollment across Indian states and union territories using scatter plot visualizations. The analysis reveals critical insights about educational equity and provides data-driven recommendations for policy interventions.\n",
    "\n",
    "**Dataset**: Enrollment of Students in Education across Indian States/UTs  \n",
    "**Focus**: Gender parity analysis using Gender Parity Index (GPI)  \n",
    "**Methodology**: Scatter plot analysis with statistical insights"
   ]
  },
  {
   "cell_type": "markdown",
   "id": "9a859813",
   "metadata": {},
   "source": [
    "## 1. Import Required Libraries\n",
    "\n",
    "Let's start by importing all necessary libraries for data manipulation, visualization, and analysis."
   ]
  },
  {
   "cell_type": "code",
   "execution_count": 14,
   "id": "fdfb70cf",
   "metadata": {},
   "outputs": [
    {
     "name": "stdout",
     "output_type": "stream",
     "text": [
      "✓ All libraries imported successfully!\n",
      "Libraries used:\n",
      "- pandas: Data manipulation and analysis\n",
      "- numpy: Numerical operations\n",
      "- matplotlib: Static plotting\n",
      "- seaborn: Statistical visualization\n",
      "- plotly: Interactive visualizations\n"
     ]
    }
   ],
   "source": [
    "# Import required libraries\n",
    "import pandas as pd\n",
    "import numpy as np\n",
    "import matplotlib.pyplot as plt\n",
    "import seaborn as sns\n",
    "import plotly.express as px\n",
    "import plotly.graph_objects as go\n",
    "from plotly.subplots import make_subplots\n",
    "import warnings\n",
    "warnings.filterwarnings('ignore')\n",
    "\n",
    "# Set display options\n",
    "pd.set_option('display.max_columns', None)\n",
    "pd.set_option('display.width', None)\n",
    "\n",
    "# Set matplotlib and seaborn style\n",
    "plt.style.use('default')\n",
    "sns.set_palette(\"husl\")\n",
    "\n",
    "print(\"✓ All libraries imported successfully!\")\n",
    "print(\"Libraries used:\")\n",
    "print(\"- pandas: Data manipulation and analysis\")\n",
    "print(\"- numpy: Numerical operations\") \n",
    "print(\"- matplotlib: Static plotting\")\n",
    "print(\"- seaborn: Statistical visualization\")\n",
    "print(\"- plotly: Interactive visualizations\")"
   ]
  },
  {
   "cell_type": "markdown",
   "id": "ae8d037d",
   "metadata": {},
   "source": [
    "## 2. Load and Explore the Dataset\n",
    "\n",
    "Let's load the enrollment data and understand its structure."
   ]
  },
  {
   "cell_type": "code",
   "execution_count": 15,
   "id": "94d8effc",
   "metadata": {},
   "outputs": [
    {
     "name": "stdout",
     "output_type": "stream",
     "text": [
      "📊 Dataset Overview\n",
      "==================================================\n",
      "Shape: (36, 64)\n",
      "Total States/UTs: 36\n",
      "Total Columns: 64\n",
      "\n",
      "📋 Column Names (first 10):\n",
      " 1. State/UTs\n",
      " 2. Pre-Primary  - Boys\n",
      " 3. Pre-Primary  - Girls\n",
      " 4. Pre-Primary  - Total\n",
      " 5. Class I - Boys\n",
      " 6. Class I - Girls\n",
      " 7. Class I - Total\n",
      " 8. Class II - Boys\n",
      " 9. Class II - Girls\n",
      "10. Class II - Total\n",
      "    ... (and more)\n",
      "\n",
      "🎯 Data Types:\n",
      "int64     63\n",
      "object     1\n",
      "Name: count, dtype: int64\n",
      "\n",
      "📊 First 3 rows:\n"
     ]
    },
    {
     "data": {
      "text/html": [
       "<div>\n",
       "<style scoped>\n",
       "    .dataframe tbody tr th:only-of-type {\n",
       "        vertical-align: middle;\n",
       "    }\n",
       "\n",
       "    .dataframe tbody tr th {\n",
       "        vertical-align: top;\n",
       "    }\n",
       "\n",
       "    .dataframe thead th {\n",
       "        text-align: right;\n",
       "    }\n",
       "</style>\n",
       "<table border=\"1\" class=\"dataframe\">\n",
       "  <thead>\n",
       "    <tr style=\"text-align: right;\">\n",
       "      <th></th>\n",
       "      <th>State/UTs</th>\n",
       "      <th>Pre-Primary  - Boys</th>\n",
       "      <th>Pre-Primary  - Girls</th>\n",
       "      <th>Pre-Primary  - Total</th>\n",
       "      <th>Class I - Boys</th>\n",
       "      <th>Class I - Girls</th>\n",
       "      <th>Class I - Total</th>\n",
       "      <th>Class II - Boys</th>\n",
       "      <th>Class II - Girls</th>\n",
       "      <th>Class II - Total</th>\n",
       "      <th>Class III - Boys</th>\n",
       "      <th>Class III - Girls</th>\n",
       "      <th>Class III - Total</th>\n",
       "      <th>Class IV - Boys</th>\n",
       "      <th>Class IV - Girls</th>\n",
       "      <th>Class IV  - Total</th>\n",
       "      <th>Class V  - Boys</th>\n",
       "      <th>Class V  - Girls</th>\n",
       "      <th>Class V  - Total</th>\n",
       "      <th>TOTAL (Class I - V) - Boys</th>\n",
       "      <th>TOTAL (Class I - V) - Girls</th>\n",
       "      <th>TOTAL (Class I - V) - Total</th>\n",
       "      <th>Class VI  - Boys</th>\n",
       "      <th>Class VI  - Girls</th>\n",
       "      <th>Class VI  - Total</th>\n",
       "      <th>Class VII - Boys</th>\n",
       "      <th>Class VII  - Girls</th>\n",
       "      <th>Class VII  - Total</th>\n",
       "      <th>Class VIII  - Boys</th>\n",
       "      <th>Class VIII  - Girls</th>\n",
       "      <th>Class VIII  - Total</th>\n",
       "      <th>TOTAL (Class VI - VIII) - Boys</th>\n",
       "      <th>TOTAL (Class VI - VIII) - Girls</th>\n",
       "      <th>(Class VI - VIII) - Total</th>\n",
       "      <th>TOTAL (Class I - VIII) - Boys</th>\n",
       "      <th>TOTAL (Class I - VIII) - Girls</th>\n",
       "      <th>Class I - VIII - Total</th>\n",
       "      <th>Class IX  - Boys</th>\n",
       "      <th>Class IX  - Girls</th>\n",
       "      <th>Class IX  - Total</th>\n",
       "      <th>Class X  - Boys</th>\n",
       "      <th>Class X  - Girls</th>\n",
       "      <th>Class X  - Total</th>\n",
       "      <th>TOTAL (Class IX-X)  - Boys</th>\n",
       "      <th>TOTAL (Class IX-X) - Girls</th>\n",
       "      <th>(Class IX-X) - TOTAL</th>\n",
       "      <th>TOTAL (Class I-X) - Boys</th>\n",
       "      <th>TOTAL (Class I-X) - Girls</th>\n",
       "      <th>Class I-X - TOTAL</th>\n",
       "      <th>Class XI  - Boys</th>\n",
       "      <th>Class XI  - Girls</th>\n",
       "      <th>Class XI  - Total</th>\n",
       "      <th>Class XII  - Boys</th>\n",
       "      <th>Class XII  - Girls</th>\n",
       "      <th>Class XII  - Total</th>\n",
       "      <th>TOTAL (Class XI- XII) - Boys</th>\n",
       "      <th>TOTAL (Class XI- XII) - Girls</th>\n",
       "      <th>(Class XI- XII) - TOTAL</th>\n",
       "      <th>TOTAL (Class I- XII) - Boys</th>\n",
       "      <th>TOTAL (Class I- XII) - Girls</th>\n",
       "      <th>(Class I- XII)  - Total</th>\n",
       "      <th>Grand Total (Pre-Primary to XII +  Pre-Primary to Class XII) - Boys</th>\n",
       "      <th>Grand Total (Pre-Primary to XII +  Pre-Primary to Class XII) - Girls</th>\n",
       "      <th>Grand Total (Pre-Primary to XII +  Pre-Primary to Class XII) - Total</th>\n",
       "    </tr>\n",
       "  </thead>\n",
       "  <tbody>\n",
       "    <tr>\n",
       "      <th>0</th>\n",
       "      <td>Andhra Pradesh</td>\n",
       "      <td>218987</td>\n",
       "      <td>171489</td>\n",
       "      <td>390476</td>\n",
       "      <td>803984</td>\n",
       "      <td>752683</td>\n",
       "      <td>1556667</td>\n",
       "      <td>736481</td>\n",
       "      <td>709846</td>\n",
       "      <td>1446327</td>\n",
       "      <td>706355</td>\n",
       "      <td>683132</td>\n",
       "      <td>1389487</td>\n",
       "      <td>690966</td>\n",
       "      <td>668319</td>\n",
       "      <td>1359285</td>\n",
       "      <td>695578</td>\n",
       "      <td>677596</td>\n",
       "      <td>1373174</td>\n",
       "      <td>3633364</td>\n",
       "      <td>3491576</td>\n",
       "      <td>7124940</td>\n",
       "      <td>661286</td>\n",
       "      <td>644742</td>\n",
       "      <td>1306028</td>\n",
       "      <td>620083</td>\n",
       "      <td>599521</td>\n",
       "      <td>1219604</td>\n",
       "      <td>568707</td>\n",
       "      <td>549221</td>\n",
       "      <td>1117928</td>\n",
       "      <td>1850076</td>\n",
       "      <td>1793484</td>\n",
       "      <td>3643560</td>\n",
       "      <td>5483440</td>\n",
       "      <td>5285060</td>\n",
       "      <td>10768500</td>\n",
       "      <td>551501</td>\n",
       "      <td>536845</td>\n",
       "      <td>1088346</td>\n",
       "      <td>535059</td>\n",
       "      <td>515517</td>\n",
       "      <td>1050576</td>\n",
       "      <td>1086560</td>\n",
       "      <td>1052362</td>\n",
       "      <td>2138922</td>\n",
       "      <td>6570000</td>\n",
       "      <td>6337422</td>\n",
       "      <td>12907422</td>\n",
       "      <td>464964</td>\n",
       "      <td>397975</td>\n",
       "      <td>862939</td>\n",
       "      <td>384544</td>\n",
       "      <td>333078</td>\n",
       "      <td>717622</td>\n",
       "      <td>849508</td>\n",
       "      <td>731053</td>\n",
       "      <td>1580561</td>\n",
       "      <td>7419508</td>\n",
       "      <td>7068475</td>\n",
       "      <td>14487983</td>\n",
       "      <td>7638495</td>\n",
       "      <td>7239964</td>\n",
       "      <td>14878459</td>\n",
       "    </tr>\n",
       "    <tr>\n",
       "      <th>1</th>\n",
       "      <td>Arunachal Pradesh</td>\n",
       "      <td>27805</td>\n",
       "      <td>24646</td>\n",
       "      <td>52451</td>\n",
       "      <td>34403</td>\n",
       "      <td>32039</td>\n",
       "      <td>66442</td>\n",
       "      <td>24428</td>\n",
       "      <td>23376</td>\n",
       "      <td>47804</td>\n",
       "      <td>21530</td>\n",
       "      <td>19726</td>\n",
       "      <td>41256</td>\n",
       "      <td>19317</td>\n",
       "      <td>17482</td>\n",
       "      <td>36799</td>\n",
       "      <td>17576</td>\n",
       "      <td>16102</td>\n",
       "      <td>33678</td>\n",
       "      <td>117254</td>\n",
       "      <td>108725</td>\n",
       "      <td>225979</td>\n",
       "      <td>15400</td>\n",
       "      <td>14797</td>\n",
       "      <td>30197</td>\n",
       "      <td>13660</td>\n",
       "      <td>12851</td>\n",
       "      <td>26511</td>\n",
       "      <td>13075</td>\n",
       "      <td>11979</td>\n",
       "      <td>25054</td>\n",
       "      <td>42135</td>\n",
       "      <td>39627</td>\n",
       "      <td>81762</td>\n",
       "      <td>159389</td>\n",
       "      <td>148352</td>\n",
       "      <td>307741</td>\n",
       "      <td>10535</td>\n",
       "      <td>9325</td>\n",
       "      <td>19860</td>\n",
       "      <td>8992</td>\n",
       "      <td>7738</td>\n",
       "      <td>16730</td>\n",
       "      <td>19527</td>\n",
       "      <td>17063</td>\n",
       "      <td>36590</td>\n",
       "      <td>178916</td>\n",
       "      <td>165415</td>\n",
       "      <td>344331</td>\n",
       "      <td>6303</td>\n",
       "      <td>5567</td>\n",
       "      <td>11870</td>\n",
       "      <td>6075</td>\n",
       "      <td>5084</td>\n",
       "      <td>11159</td>\n",
       "      <td>12378</td>\n",
       "      <td>10651</td>\n",
       "      <td>23029</td>\n",
       "      <td>191294</td>\n",
       "      <td>176066</td>\n",
       "      <td>367360</td>\n",
       "      <td>219099</td>\n",
       "      <td>200712</td>\n",
       "      <td>419811</td>\n",
       "    </tr>\n",
       "    <tr>\n",
       "      <th>2</th>\n",
       "      <td>Assam</td>\n",
       "      <td>392239</td>\n",
       "      <td>378843</td>\n",
       "      <td>771082</td>\n",
       "      <td>369391</td>\n",
       "      <td>358895</td>\n",
       "      <td>728286</td>\n",
       "      <td>309241</td>\n",
       "      <td>304354</td>\n",
       "      <td>613595</td>\n",
       "      <td>281209</td>\n",
       "      <td>278475</td>\n",
       "      <td>559684</td>\n",
       "      <td>262122</td>\n",
       "      <td>262375</td>\n",
       "      <td>524497</td>\n",
       "      <td>240677</td>\n",
       "      <td>255975</td>\n",
       "      <td>496652</td>\n",
       "      <td>1462640</td>\n",
       "      <td>1460074</td>\n",
       "      <td>2922714</td>\n",
       "      <td>230783</td>\n",
       "      <td>248342</td>\n",
       "      <td>479125</td>\n",
       "      <td>223757</td>\n",
       "      <td>242311</td>\n",
       "      <td>466068</td>\n",
       "      <td>222350</td>\n",
       "      <td>184119</td>\n",
       "      <td>406469</td>\n",
       "      <td>676890</td>\n",
       "      <td>674772</td>\n",
       "      <td>1351662</td>\n",
       "      <td>2139530</td>\n",
       "      <td>2134846</td>\n",
       "      <td>4274376</td>\n",
       "      <td>190063</td>\n",
       "      <td>172451</td>\n",
       "      <td>362514</td>\n",
       "      <td>163424</td>\n",
       "      <td>134303</td>\n",
       "      <td>297727</td>\n",
       "      <td>353487</td>\n",
       "      <td>306754</td>\n",
       "      <td>660241</td>\n",
       "      <td>2493017</td>\n",
       "      <td>2441600</td>\n",
       "      <td>4934617</td>\n",
       "      <td>66776</td>\n",
       "      <td>52474</td>\n",
       "      <td>119250</td>\n",
       "      <td>58679</td>\n",
       "      <td>43293</td>\n",
       "      <td>101972</td>\n",
       "      <td>125455</td>\n",
       "      <td>95767</td>\n",
       "      <td>221222</td>\n",
       "      <td>2618472</td>\n",
       "      <td>2537367</td>\n",
       "      <td>5155839</td>\n",
       "      <td>3010711</td>\n",
       "      <td>2916210</td>\n",
       "      <td>5926921</td>\n",
       "    </tr>\n",
       "  </tbody>\n",
       "</table>\n",
       "</div>"
      ],
      "text/plain": [
       "           State/UTs  Pre-Primary  - Boys  Pre-Primary  - Girls  \\\n",
       "0     Andhra Pradesh               218987                171489   \n",
       "1  Arunachal Pradesh                27805                 24646   \n",
       "2              Assam               392239                378843   \n",
       "\n",
       "   Pre-Primary  - Total  Class I - Boys  Class I - Girls  Class I - Total  \\\n",
       "0                390476          803984           752683          1556667   \n",
       "1                 52451           34403            32039            66442   \n",
       "2                771082          369391           358895           728286   \n",
       "\n",
       "   Class II - Boys  Class II - Girls  Class II - Total  Class III - Boys  \\\n",
       "0           736481            709846           1446327            706355   \n",
       "1            24428             23376             47804             21530   \n",
       "2           309241            304354            613595            281209   \n",
       "\n",
       "   Class III - Girls  Class III - Total  Class IV - Boys  Class IV - Girls  \\\n",
       "0             683132            1389487           690966            668319   \n",
       "1              19726              41256            19317             17482   \n",
       "2             278475             559684           262122            262375   \n",
       "\n",
       "   Class IV  - Total  Class V  - Boys  Class V  - Girls  Class V  - Total  \\\n",
       "0            1359285           695578            677596           1373174   \n",
       "1              36799            17576             16102             33678   \n",
       "2             524497           240677            255975            496652   \n",
       "\n",
       "   TOTAL (Class I - V) - Boys  TOTAL (Class I - V) - Girls  \\\n",
       "0                     3633364                      3491576   \n",
       "1                      117254                       108725   \n",
       "2                     1462640                      1460074   \n",
       "\n",
       "   TOTAL (Class I - V) - Total  Class VI  - Boys  Class VI  - Girls  \\\n",
       "0                      7124940            661286             644742   \n",
       "1                       225979             15400              14797   \n",
       "2                      2922714            230783             248342   \n",
       "\n",
       "   Class VI  - Total  Class VII - Boys  Class VII  - Girls  \\\n",
       "0            1306028            620083              599521   \n",
       "1              30197             13660               12851   \n",
       "2             479125            223757              242311   \n",
       "\n",
       "   Class VII  - Total  Class VIII  - Boys  Class VIII  - Girls  \\\n",
       "0             1219604              568707               549221   \n",
       "1               26511               13075                11979   \n",
       "2              466068              222350               184119   \n",
       "\n",
       "   Class VIII  - Total  TOTAL (Class VI - VIII) - Boys  \\\n",
       "0              1117928                         1850076   \n",
       "1                25054                           42135   \n",
       "2               406469                          676890   \n",
       "\n",
       "   TOTAL (Class VI - VIII) - Girls  (Class VI - VIII) - Total  \\\n",
       "0                          1793484                    3643560   \n",
       "1                            39627                      81762   \n",
       "2                           674772                    1351662   \n",
       "\n",
       "   TOTAL (Class I - VIII) - Boys  TOTAL (Class I - VIII) - Girls  \\\n",
       "0                        5483440                         5285060   \n",
       "1                         159389                          148352   \n",
       "2                        2139530                         2134846   \n",
       "\n",
       "   Class I - VIII - Total  Class IX  - Boys  Class IX  - Girls  \\\n",
       "0                10768500            551501             536845   \n",
       "1                  307741             10535               9325   \n",
       "2                 4274376            190063             172451   \n",
       "\n",
       "   Class IX  - Total  Class X  - Boys  Class X  - Girls  Class X  - Total  \\\n",
       "0            1088346           535059            515517           1050576   \n",
       "1              19860             8992              7738             16730   \n",
       "2             362514           163424            134303            297727   \n",
       "\n",
       "   TOTAL (Class IX-X)  - Boys  TOTAL (Class IX-X) - Girls  \\\n",
       "0                     1086560                     1052362   \n",
       "1                       19527                       17063   \n",
       "2                      353487                      306754   \n",
       "\n",
       "   (Class IX-X) - TOTAL  TOTAL (Class I-X) - Boys  TOTAL (Class I-X) - Girls  \\\n",
       "0               2138922                   6570000                    6337422   \n",
       "1                 36590                    178916                     165415   \n",
       "2                660241                   2493017                    2441600   \n",
       "\n",
       "   Class I-X - TOTAL  Class XI  - Boys  Class XI  - Girls  Class XI  - Total  \\\n",
       "0           12907422            464964             397975             862939   \n",
       "1             344331              6303               5567              11870   \n",
       "2            4934617             66776              52474             119250   \n",
       "\n",
       "   Class XII  - Boys  Class XII  - Girls  Class XII  - Total  \\\n",
       "0             384544              333078              717622   \n",
       "1               6075                5084               11159   \n",
       "2              58679               43293              101972   \n",
       "\n",
       "   TOTAL (Class XI- XII) - Boys  TOTAL (Class XI- XII) - Girls  \\\n",
       "0                        849508                         731053   \n",
       "1                         12378                          10651   \n",
       "2                        125455                          95767   \n",
       "\n",
       "   (Class XI- XII) - TOTAL  TOTAL (Class I- XII) - Boys  \\\n",
       "0                  1580561                      7419508   \n",
       "1                    23029                       191294   \n",
       "2                   221222                      2618472   \n",
       "\n",
       "   TOTAL (Class I- XII) - Girls  (Class I- XII)  - Total  \\\n",
       "0                       7068475                 14487983   \n",
       "1                        176066                   367360   \n",
       "2                       2537367                  5155839   \n",
       "\n",
       "   Grand Total (Pre-Primary to XII +  Pre-Primary to Class XII) - Boys  \\\n",
       "0                                            7638495                     \n",
       "1                                             219099                     \n",
       "2                                            3010711                     \n",
       "\n",
       "   Grand Total (Pre-Primary to XII +  Pre-Primary to Class XII) - Girls  \\\n",
       "0                                            7239964                      \n",
       "1                                             200712                      \n",
       "2                                            2916210                      \n",
       "\n",
       "   Grand Total (Pre-Primary to XII +  Pre-Primary to Class XII) - Total  \n",
       "0                                           14878459                     \n",
       "1                                             419811                     \n",
       "2                                            5926921                     "
      ]
     },
     "execution_count": 15,
     "metadata": {},
     "output_type": "execute_result"
    }
   ],
   "source": [
    "# Load the dataset\n",
    "df = pd.read_csv('Enrolment of Students in Education.csv')\n",
    "\n",
    "# Display basic information about the dataset\n",
    "print(\"📊 Dataset Overview\")\n",
    "print(\"=\" * 50)\n",
    "print(f\"Shape: {df.shape}\")\n",
    "print(f\"Total States/UTs: {len(df)}\")\n",
    "print(f\"Total Columns: {len(df.columns)}\")\n",
    "\n",
    "print(\"\\n📋 Column Names (first 10):\")\n",
    "for i, col in enumerate(df.columns[:10]):\n",
    "    print(f\"{i+1:2d}. {col}\")\n",
    "print(\"    ... (and more)\")\n",
    "\n",
    "print(\"\\n🎯 Data Types:\")\n",
    "print(df.dtypes.value_counts())\n",
    "\n",
    "print(\"\\n📊 First 3 rows:\")\n",
    "df.head(3)"
   ]
  },
  {
   "cell_type": "markdown",
   "id": "73df8881",
   "metadata": {},
   "source": [
    "## 3. Data Preprocessing and Cleaning\n",
    "\n",
    "Let's clean the data and extract key enrollment metrics for boys and girls."
   ]
  },
  {
   "cell_type": "code",
   "execution_count": 16,
   "id": "8f2e0f82",
   "metadata": {},
   "outputs": [
    {
     "name": "stdout",
     "output_type": "stream",
     "text": [
      "✓ Data preprocessing completed!\n",
      "Clean dataset shape: (35, 13)\n",
      "States/UTs included: 35\n",
      "\n",
      "📊 Clean Dataset Preview:\n"
     ]
    },
    {
     "data": {
      "text/html": [
       "<div>\n",
       "<style scoped>\n",
       "    .dataframe tbody tr th:only-of-type {\n",
       "        vertical-align: middle;\n",
       "    }\n",
       "\n",
       "    .dataframe tbody tr th {\n",
       "        vertical-align: top;\n",
       "    }\n",
       "\n",
       "    .dataframe thead th {\n",
       "        text-align: right;\n",
       "    }\n",
       "</style>\n",
       "<table border=\"1\" class=\"dataframe\">\n",
       "  <thead>\n",
       "    <tr style=\"text-align: right;\">\n",
       "      <th></th>\n",
       "      <th>State</th>\n",
       "      <th>Primary_Boys</th>\n",
       "      <th>Primary_Girls</th>\n",
       "      <th>Primary_Total</th>\n",
       "      <th>Secondary_Boys</th>\n",
       "      <th>Secondary_Girls</th>\n",
       "      <th>Secondary_Total</th>\n",
       "      <th>Higher_Secondary_Boys</th>\n",
       "      <th>Higher_Secondary_Girls</th>\n",
       "      <th>Higher_Secondary_Total</th>\n",
       "      <th>Overall_Boys</th>\n",
       "      <th>Overall_Girls</th>\n",
       "      <th>Overall_Total</th>\n",
       "    </tr>\n",
       "  </thead>\n",
       "  <tbody>\n",
       "    <tr>\n",
       "      <th>0</th>\n",
       "      <td>Andhra Pradesh</td>\n",
       "      <td>3633364</td>\n",
       "      <td>3491576</td>\n",
       "      <td>7124940</td>\n",
       "      <td>1850076</td>\n",
       "      <td>1793484</td>\n",
       "      <td>3643560</td>\n",
       "      <td>1086560</td>\n",
       "      <td>1052362</td>\n",
       "      <td>2138922</td>\n",
       "      <td>7419508</td>\n",
       "      <td>7068475</td>\n",
       "      <td>14487983</td>\n",
       "    </tr>\n",
       "    <tr>\n",
       "      <th>1</th>\n",
       "      <td>Arunachal Pradesh</td>\n",
       "      <td>117254</td>\n",
       "      <td>108725</td>\n",
       "      <td>225979</td>\n",
       "      <td>42135</td>\n",
       "      <td>39627</td>\n",
       "      <td>81762</td>\n",
       "      <td>19527</td>\n",
       "      <td>17063</td>\n",
       "      <td>36590</td>\n",
       "      <td>191294</td>\n",
       "      <td>176066</td>\n",
       "      <td>367360</td>\n",
       "    </tr>\n",
       "    <tr>\n",
       "      <th>2</th>\n",
       "      <td>Assam</td>\n",
       "      <td>1462640</td>\n",
       "      <td>1460074</td>\n",
       "      <td>2922714</td>\n",
       "      <td>676890</td>\n",
       "      <td>674772</td>\n",
       "      <td>1351662</td>\n",
       "      <td>353487</td>\n",
       "      <td>306754</td>\n",
       "      <td>660241</td>\n",
       "      <td>2618472</td>\n",
       "      <td>2537367</td>\n",
       "      <td>5155839</td>\n",
       "    </tr>\n",
       "    <tr>\n",
       "      <th>3</th>\n",
       "      <td>Bihar</td>\n",
       "      <td>8076775</td>\n",
       "      <td>6857499</td>\n",
       "      <td>14934274</td>\n",
       "      <td>2665776</td>\n",
       "      <td>2214656</td>\n",
       "      <td>4880432</td>\n",
       "      <td>1181000</td>\n",
       "      <td>867090</td>\n",
       "      <td>2048090</td>\n",
       "      <td>12534149</td>\n",
       "      <td>10348435</td>\n",
       "      <td>22882584</td>\n",
       "    </tr>\n",
       "    <tr>\n",
       "      <th>4</th>\n",
       "      <td>Chhattisgarh</td>\n",
       "      <td>1677674</td>\n",
       "      <td>1553940</td>\n",
       "      <td>3231614</td>\n",
       "      <td>731960</td>\n",
       "      <td>673867</td>\n",
       "      <td>1405827</td>\n",
       "      <td>341226</td>\n",
       "      <td>307549</td>\n",
       "      <td>648775</td>\n",
       "      <td>2947854</td>\n",
       "      <td>2690437</td>\n",
       "      <td>5638291</td>\n",
       "    </tr>\n",
       "  </tbody>\n",
       "</table>\n",
       "</div>"
      ],
      "text/plain": [
       "               State  Primary_Boys  Primary_Girls  Primary_Total  \\\n",
       "0     Andhra Pradesh       3633364        3491576        7124940   \n",
       "1  Arunachal Pradesh        117254         108725         225979   \n",
       "2              Assam       1462640        1460074        2922714   \n",
       "3              Bihar       8076775        6857499       14934274   \n",
       "4       Chhattisgarh       1677674        1553940        3231614   \n",
       "\n",
       "   Secondary_Boys  Secondary_Girls  Secondary_Total  Higher_Secondary_Boys  \\\n",
       "0         1850076          1793484          3643560                1086560   \n",
       "1           42135            39627            81762                  19527   \n",
       "2          676890           674772          1351662                 353487   \n",
       "3         2665776          2214656          4880432                1181000   \n",
       "4          731960           673867          1405827                 341226   \n",
       "\n",
       "   Higher_Secondary_Girls  Higher_Secondary_Total  Overall_Boys  \\\n",
       "0                 1052362                 2138922       7419508   \n",
       "1                   17063                   36590        191294   \n",
       "2                  306754                  660241       2618472   \n",
       "3                  867090                 2048090      12534149   \n",
       "4                  307549                  648775       2947854   \n",
       "\n",
       "   Overall_Girls  Overall_Total  \n",
       "0        7068475       14487983  \n",
       "1         176066         367360  \n",
       "2        2537367        5155839  \n",
       "3       10348435       22882584  \n",
       "4        2690437        5638291  "
      ]
     },
     "execution_count": 16,
     "metadata": {},
     "output_type": "execute_result"
    }
   ],
   "source": [
    "# Create a clean dataframe with key enrollment metrics\n",
    "enrollment_data = df.copy()\n",
    "\n",
    "# Extract key columns for analysis\n",
    "key_columns = {\n",
    "    'State/UTs': 'State',\n",
    "    'TOTAL (Class I - V) - Boys': 'Primary_Boys',\n",
    "    'TOTAL (Class I - V) - Girls': 'Primary_Girls',\n",
    "    'TOTAL (Class I - V) - Total': 'Primary_Total',\n",
    "    'TOTAL (Class VI - VIII) - Boys': 'Secondary_Boys',\n",
    "    'TOTAL (Class VI - VIII) - Girls': 'Secondary_Girls',\n",
    "    '(Class VI - VIII) - Total': 'Secondary_Total',\n",
    "    'TOTAL (Class IX-X)  - Boys': 'Higher_Secondary_Boys',\n",
    "    'TOTAL (Class IX-X) - Girls': 'Higher_Secondary_Girls',\n",
    "    '(Class IX-X) - TOTAL': 'Higher_Secondary_Total',\n",
    "    'TOTAL (Class I- XII) - Boys': 'Overall_Boys',\n",
    "    'TOTAL (Class I- XII) - Girls': 'Overall_Girls',\n",
    "    '(Class I- XII)  - Total': 'Overall_Total'\n",
    "}\n",
    "\n",
    "# Create clean dataset\n",
    "clean_df = enrollment_data[list(key_columns.keys())].copy()\n",
    "clean_df.rename(columns=key_columns, inplace=True)\n",
    "\n",
    "# Convert numeric columns to proper data types\n",
    "numeric_cols = [col for col in clean_df.columns if col != 'State']\n",
    "for col in numeric_cols:\n",
    "    clean_df[col] = pd.to_numeric(clean_df[col], errors='coerce')\n",
    "\n",
    "# Handle missing values (replace with 0 where appropriate)\n",
    "clean_df[numeric_cols] = clean_df[numeric_cols].fillna(0)\n",
    "\n",
    "# Remove the summary row if it exists (usually 'India' total)\n",
    "clean_df = clean_df[clean_df['State'] != 'India'].copy()\n",
    "\n",
    "print(\"✓ Data preprocessing completed!\")\n",
    "print(f\"Clean dataset shape: {clean_df.shape}\")\n",
    "print(f\"States/UTs included: {len(clean_df)}\")\n",
    "\n",
    "print(\"\\n📊 Clean Dataset Preview:\")\n",
    "clean_df.head()"
   ]
  },
  {
   "cell_type": "markdown",
   "id": "0348f37e",
   "metadata": {},
   "source": [
    "## 4. Calculate Gender Parity Index (GPI)\n",
    "\n",
    "The Gender Parity Index is calculated as the ratio of female to male enrollment (Girls/Boys). A GPI of:\n",
    "- 1.0 = Perfect gender parity\n",
    "- < 1.0 = Male advantage \n",
    "- > 1.0 = Female advantage"
   ]
  },
  {
   "cell_type": "code",
   "execution_count": 17,
   "id": "7b259e02",
   "metadata": {},
   "outputs": [
    {
     "name": "stdout",
     "output_type": "stream",
     "text": [
      "🎯 Gender Parity Index (GPI) Analysis\n",
      "==================================================\n",
      "\n",
      "📊 GPI Statistics Across Education Levels:\n",
      "       GPI_Primary  GPI_Secondary  GPI_Higher_Secondary  GPI_Overall\n",
      "count       35.000         35.000                35.000       35.000\n",
      "mean         0.926          0.925                 0.892        0.918\n",
      "std          0.044          0.094                 0.114        0.062\n",
      "min          0.795          0.740                 0.616        0.780\n",
      "25%          0.901          0.878                 0.861        0.873\n",
      "50%          0.931          0.926                 0.901        0.925\n",
      "75%          0.957          0.965                 0.970        0.954\n",
      "max          1.002          1.190                 1.140        1.036\n",
      "\n",
      "📈 Overall GPI Distribution:\n",
      "GPI_Category_Overall\n",
      "Severe Male Advantage      13\n",
      "Moderate Male Advantage    12\n",
      "Gender Parity              10\n",
      "Name: count, dtype: int64\n",
      "\n",
      "🔍 Top 5 States with Best Gender Parity (GPI closest to 1.0):\n",
      "           State  GPI_Overall GPI_Category_Overall\n",
      "27  West Bengal         0.986        Gender Parity\n",
      "34    Puducherry        0.973        Gender Parity\n",
      "12       Kerala         0.972        Gender Parity\n",
      "33  Lakshadweep         1.030        Gender Parity\n",
      "2          Assam        0.969        Gender Parity\n"
     ]
    }
   ],
   "source": [
    "# Calculate Gender Parity Index (GPI) for different education levels\n",
    "def calculate_gpi(girls, boys):\n",
    "    \"\"\"Calculate Gender Parity Index (Girls/Boys), handling division by zero\"\"\"\n",
    "    return np.where(boys == 0, np.nan, girls / boys)\n",
    "\n",
    "# Calculate GPI for each education level\n",
    "clean_df['GPI_Primary'] = calculate_gpi(clean_df['Primary_Girls'], clean_df['Primary_Boys'])\n",
    "clean_df['GPI_Secondary'] = calculate_gpi(clean_df['Secondary_Girls'], clean_df['Secondary_Boys'])\n",
    "clean_df['GPI_Higher_Secondary'] = calculate_gpi(clean_df['Higher_Secondary_Girls'], clean_df['Higher_Secondary_Boys'])\n",
    "clean_df['GPI_Overall'] = calculate_gpi(clean_df['Overall_Girls'], clean_df['Overall_Boys'])\n",
    "\n",
    "# Create categories based on GPI values\n",
    "def categorize_gpi(gpi):\n",
    "    \"\"\"Categorize GPI into meaningful groups\"\"\"\n",
    "    if pd.isna(gpi):\n",
    "        return 'No Data'\n",
    "    elif gpi < 0.90:\n",
    "        return 'Severe Male Advantage'\n",
    "    elif gpi < 0.95:\n",
    "        return 'Moderate Male Advantage'\n",
    "    elif gpi <= 1.05:\n",
    "        return 'Gender Parity'\n",
    "    elif gpi <= 1.10:\n",
    "        return 'Moderate Female Advantage'\n",
    "    else:\n",
    "        return 'Strong Female Advantage'\n",
    "\n",
    "# Apply categorization\n",
    "clean_df['GPI_Category_Overall'] = clean_df['GPI_Overall'].apply(categorize_gpi)\n",
    "\n",
    "# Display GPI statistics\n",
    "print(\"🎯 Gender Parity Index (GPI) Analysis\")\n",
    "print(\"=\" * 50)\n",
    "\n",
    "gpi_stats = clean_df[['GPI_Primary', 'GPI_Secondary', 'GPI_Higher_Secondary', 'GPI_Overall']].describe()\n",
    "print(\"\\n📊 GPI Statistics Across Education Levels:\")\n",
    "print(gpi_stats.round(3))\n",
    "\n",
    "print(\"\\n📈 Overall GPI Distribution:\")\n",
    "print(clean_df['GPI_Category_Overall'].value_counts())\n",
    "\n",
    "print(\"\\n🔍 Top 5 States with Best Gender Parity (GPI closest to 1.0):\")\n",
    "clean_df_valid = clean_df.dropna(subset=['GPI_Overall'])\n",
    "clean_df_valid['GPI_Distance_from_1'] = abs(clean_df_valid['GPI_Overall'] - 1.0)\n",
    "best_parity = clean_df_valid.nsmallest(5, 'GPI_Distance_from_1')[['State', 'GPI_Overall', 'GPI_Category_Overall']]\n",
    "print(best_parity.round(3))"
   ]
  },
  {
   "cell_type": "markdown",
   "id": "9ba92b27",
   "metadata": {},
   "source": [
    "## 8.5. Class XII Enrollment Analysis - Boys vs Girls Scatter Plot\n",
    "\n",
    "Let's create a focused analysis of Class XII enrollment patterns without using GPI, showing the direct relationship between boys and girls enrollment at the senior secondary level."
   ]
  },
  {
   "cell_type": "code",
   "execution_count": 18,
   "id": "f46714c6",
   "metadata": {},
   "outputs": [
    {
     "name": "stdout",
     "output_type": "stream",
     "text": [
      "📊 CLASS XII ENROLLMENT OVERVIEW\n",
      "==================================================\n",
      "States with Class XII data: 35\n",
      "Total boys in Class XII: 5,177,645\n",
      "Total girls in Class XII: 4,082,627\n",
      "Total Class XII enrollment: 9,260,272\n",
      "\n",
      "📈 Class XII Enrollment Statistics:\n",
      "Boys - Mean: 147,933, Median: 58,679\n",
      "Girls - Mean: 116,646, Median: 48,671\n",
      "\n",
      "🏆 Top 10 States by Class XII Total Enrollment:\n",
      " 1. Uttar Pradesh: Boys=939,129, Girls=646,120, Total=1,585,249\n",
      " 2. Maharashtra: Boys=665,003, Girls=507,394, Total=1,172,397\n",
      " 3. Andhra Pradesh: Boys=384,544, Girls=333,078, Total=717,622\n",
      " 4. Madhya Pradesh: Boys=435,771, Girls=273,320, Total=709,091\n",
      " 5. Rajasthan: Boys=414,707, Girls=231,670, Total=646,377\n",
      " 6. Tamil Nadu: Boys=272,336, Girls=327,800, Total=600,136\n",
      " 7. West Bengal : Boys=296,039, Girls=247,359, Total=543,398\n",
      " 8. Bihar: Boys=289,240, Girls=189,948, Total=479,188\n",
      " 9. Karnataka: Boys=209,008, Girls=219,570, Total=428,578\n",
      "10. Gujarat: Boys=219,538, Girls=161,832, Total=381,370\n"
     ]
    },
    {
     "data": {
      "text/html": [
       "<div>\n",
       "<style scoped>\n",
       "    .dataframe tbody tr th:only-of-type {\n",
       "        vertical-align: middle;\n",
       "    }\n",
       "\n",
       "    .dataframe tbody tr th {\n",
       "        vertical-align: top;\n",
       "    }\n",
       "\n",
       "    .dataframe thead th {\n",
       "        text-align: right;\n",
       "    }\n",
       "</style>\n",
       "<table border=\"1\" class=\"dataframe\">\n",
       "  <thead>\n",
       "    <tr style=\"text-align: right;\">\n",
       "      <th></th>\n",
       "      <th>State</th>\n",
       "      <th>Class_XII_Boys</th>\n",
       "      <th>Class_XII_Girls</th>\n",
       "      <th>Class_XII_Total</th>\n",
       "    </tr>\n",
       "  </thead>\n",
       "  <tbody>\n",
       "    <tr>\n",
       "      <th>0</th>\n",
       "      <td>Andhra Pradesh</td>\n",
       "      <td>384544</td>\n",
       "      <td>333078</td>\n",
       "      <td>717622</td>\n",
       "    </tr>\n",
       "    <tr>\n",
       "      <th>1</th>\n",
       "      <td>Arunachal Pradesh</td>\n",
       "      <td>6075</td>\n",
       "      <td>5084</td>\n",
       "      <td>11159</td>\n",
       "    </tr>\n",
       "    <tr>\n",
       "      <th>2</th>\n",
       "      <td>Assam</td>\n",
       "      <td>58679</td>\n",
       "      <td>43293</td>\n",
       "      <td>101972</td>\n",
       "    </tr>\n",
       "    <tr>\n",
       "      <th>3</th>\n",
       "      <td>Bihar</td>\n",
       "      <td>289240</td>\n",
       "      <td>189948</td>\n",
       "      <td>479188</td>\n",
       "    </tr>\n",
       "    <tr>\n",
       "      <th>4</th>\n",
       "      <td>Chhattisgarh</td>\n",
       "      <td>93415</td>\n",
       "      <td>71117</td>\n",
       "      <td>164532</td>\n",
       "    </tr>\n",
       "  </tbody>\n",
       "</table>\n",
       "</div>"
      ],
      "text/plain": [
       "               State  Class_XII_Boys  Class_XII_Girls  Class_XII_Total\n",
       "0     Andhra Pradesh          384544           333078           717622\n",
       "1  Arunachal Pradesh            6075             5084            11159\n",
       "2              Assam           58679            43293           101972\n",
       "3              Bihar          289240           189948           479188\n",
       "4       Chhattisgarh           93415            71117           164532"
      ]
     },
     "execution_count": 18,
     "metadata": {},
     "output_type": "execute_result"
    }
   ],
   "source": [
    "# First, let's extract Class XII specific data from the original dataset\n",
    "# Add Class XII columns to our clean dataset\n",
    "class_12_boys_col = 'Class XII  - Boys'\n",
    "class_12_girls_col = 'Class XII  - Girls'\n",
    "class_12_total_col = 'Class XII  - Total'\n",
    "\n",
    "# Extract Class XII data\n",
    "clean_df['Class_XII_Boys'] = df[class_12_boys_col].fillna(0)\n",
    "clean_df['Class_XII_Girls'] = df[class_12_girls_col].fillna(0)\n",
    "clean_df['Class_XII_Total'] = df[class_12_total_col].fillna(0)\n",
    "\n",
    "# Remove the India total row if it exists\n",
    "class_12_data = clean_df[clean_df['State'] != 'India'].copy()\n",
    "\n",
    "# Filter out states with zero enrollment in Class XII\n",
    "class_12_data = class_12_data[(class_12_data['Class_XII_Boys'] > 0) | (class_12_data['Class_XII_Girls'] > 0)].copy()\n",
    "\n",
    "print(\"📊 CLASS XII ENROLLMENT OVERVIEW\")\n",
    "print(\"=\" * 50)\n",
    "print(f\"States with Class XII data: {len(class_12_data)}\")\n",
    "print(f\"Total boys in Class XII: {class_12_data['Class_XII_Boys'].sum():,.0f}\")\n",
    "print(f\"Total girls in Class XII: {class_12_data['Class_XII_Girls'].sum():,.0f}\")\n",
    "print(f\"Total Class XII enrollment: {class_12_data['Class_XII_Total'].sum():,.0f}\")\n",
    "\n",
    "# Basic statistics\n",
    "print(f\"\\n📈 Class XII Enrollment Statistics:\")\n",
    "print(f\"Boys - Mean: {class_12_data['Class_XII_Boys'].mean():,.0f}, Median: {class_12_data['Class_XII_Boys'].median():,.0f}\")\n",
    "print(f\"Girls - Mean: {class_12_data['Class_XII_Girls'].mean():,.0f}, Median: {class_12_data['Class_XII_Girls'].median():,.0f}\")\n",
    "\n",
    "# Top states by Class XII enrollment\n",
    "print(f\"\\n🏆 Top 10 States by Class XII Total Enrollment:\")\n",
    "top_states = class_12_data.nlargest(10, 'Class_XII_Total')[['State', 'Class_XII_Boys', 'Class_XII_Girls', 'Class_XII_Total']]\n",
    "for i, (_, row) in enumerate(top_states.iterrows(), 1):\n",
    "    print(f\"{i:2d}. {row['State']}: Boys={row['Class_XII_Boys']:,.0f}, Girls={row['Class_XII_Girls']:,.0f}, Total={row['Class_XII_Total']:,.0f}\")\n",
    "\n",
    "# Preview the data\n",
    "class_12_data[['State', 'Class_XII_Boys', 'Class_XII_Girls', 'Class_XII_Total']].head()"
   ]
  },
  {
   "cell_type": "code",
   "execution_count": 19,
   "id": "68dd762c",
   "metadata": {},
   "outputs": [
    {
     "name": "stdout",
     "output_type": "stream",
     "text": [
      "Note: For optimal label positioning, install 'adjustText': pip install adjustText\n"
     ]
    },
    {
     "data": {
      "image/png": "[encoded data removed]",
      "text/plain": [
       "<Figure size 2000x1600 with 2 Axes>"
      ]
     },
     "metadata": {},
     "output_type": "display_data"
    },
    {
     "name": "stdout",
     "output_type": "stream",
     "text": [
      "📊 Class XII Scatter Plot Analysis:\n",
      "==================================================\n",
      "• Total boys enrolled: 5,177,645\n",
      "• Total girls enrolled: 4,082,627\n",
      "• Gender gap: 1,095,018 students (11.8%)\n",
      "• Boys have higher enrollment nationally\n",
      "\n",
      "📈 State Distribution:\n",
      "• 10 states have more girls than boys in Class XII\n",
      "• 25 states have more boys than girls in Class XII\n",
      "\n",
      "States with more girls in Class XII (top 5 by difference):\n",
      "  • Tamil Nadu: +55,464 more girls\n",
      "  • Kerala : +20,811 more girls\n",
      "  • Karnataka: +10,562 more girls\n",
      "  • Puducherry: +1,163 more girls\n",
      "  • Meghalaya: +867 more girls\n",
      "\n",
      "States with more boys in Class XII (top 5 by difference):\n",
      "  • Uttar Pradesh: +293,009 more boys\n",
      "  • Rajasthan: +183,037 more boys\n",
      "  • Madhya Pradesh: +162,451 more boys\n",
      "  • Maharashtra: +157,609 more boys\n",
      "  • Bihar: +99,292 more boys\n"
     ]
    }
   ],
   "source": [
    "# Create Class XII Boys vs Girls Scatter Plot with all state labels\n",
    "# Try to import adjustText for better label positioning (optional)\n",
    "try:\n",
    "    from adjustText import adjust_text\n",
    "    ADJUST_TEXT_AVAILABLE = True\n",
    "except ImportError:\n",
    "    ADJUST_TEXT_AVAILABLE = False\n",
    "    print(\"Note: For optimal label positioning, install 'adjustText': pip install adjustText\")\n",
    "\n",
    "fig, ax = plt.subplots(figsize=(20, 16))  # Increased figure size for better visibility\n",
    "\n",
    "# Create scatter plot with state names\n",
    "scatter = ax.scatter(class_12_data['Class_XII_Boys']/1000, \n",
    "                    class_12_data['Class_XII_Girls']/1000,\n",
    "                    c=class_12_data['Class_XII_Total']/1000,\n",
    "                    cmap='plasma',\n",
    "                    s=100, alpha=0.7, edgecolors='black', linewidth=0.5)\n",
    "\n",
    "# Add perfect parity line (y=x)\n",
    "max_val = max(class_12_data['Class_XII_Boys'].max(), class_12_data['Class_XII_Girls'].max()) / 1000\n",
    "ax.plot([0, max_val], [0, max_val], 'r--', linewidth=2, alpha=0.8, label='Equal Enrollment Line (Boys = Girls)')\n",
    "\n",
    "# Add labels for ALL states with smart positioning to avoid overlap\n",
    "if ADJUST_TEXT_AVAILABLE:\n",
    "    # Use adjustText for optimal positioning\n",
    "    texts = []\n",
    "    for idx, row in class_12_data.iterrows():\n",
    "        text = ax.text(row['Class_XII_Boys']/1000, row['Class_XII_Girls']/1000, row['State'],\n",
    "                      fontsize=8, fontweight='bold', ha='center', va='center',\n",
    "                      bbox=dict(boxstyle=\"round,pad=0.2\", facecolor=\"white\", alpha=0.9, edgecolor='gray'))\n",
    "        texts.append(text)\n",
    "    \n",
    "    adjust_text(texts, \n",
    "               arrowprops=dict(arrowstyle='->', color='gray', alpha=0.7, lw=0.5),\n",
    "               force_points=0.3, force_text=0.5,\n",
    "               expand_points=(1.5, 1.5), expand_text=(1.3, 1.3))\n",
    "else:\n",
    "    # Manual positioning strategy for all states\n",
    "    for idx, row in class_12_data.iterrows():\n",
    "        x_pos = row['Class_XII_Boys']/1000\n",
    "        y_pos = row['Class_XII_Girls']/1000\n",
    "        \n",
    "        # Calculate smart offset based on position and index to minimize overlap\n",
    "        angle = (idx * 45) % 360  # Distribute angles\n",
    "        radius = 15 + (idx % 3) * 5  # Vary radius slightly\n",
    "        \n",
    "        offset_x = radius * np.cos(np.radians(angle))\n",
    "        offset_y = radius * np.sin(np.radians(angle))\n",
    "        \n",
    "        # Adjust for edge positions to keep labels within plot area\n",
    "        if x_pos > max_val * 0.8:  # Right edge\n",
    "            offset_x = min(offset_x, -10)\n",
    "        elif x_pos < max_val * 0.2:  # Left edge\n",
    "            offset_x = max(offset_x, 10)\n",
    "            \n",
    "        if y_pos > max_val * 0.8:  # Top edge\n",
    "            offset_y = min(offset_y, -10)\n",
    "        elif y_pos < max_val * 0.2:  # Bottom edge\n",
    "            offset_y = max(offset_y, 10)\n",
    "        \n",
    "        ax.annotate(row['State'], \n",
    "                   (x_pos, y_pos),\n",
    "                   xytext=(offset_x, offset_y), textcoords='offset points',\n",
    "                   fontsize=8, fontweight='bold', ha='center',\n",
    "                   bbox=dict(boxstyle=\"round,pad=0.2\", facecolor=\"white\", alpha=0.9, edgecolor='gray'),\n",
    "                   arrowprops=dict(arrowstyle='->', color='gray', alpha=0.6, lw=0.5))\n",
    "\n",
    "# Customize the plot\n",
    "ax.set_xlabel('Boys Enrollment in Class XII (Thousands)', fontsize=14, fontweight='bold')\n",
    "ax.set_ylabel('Girls Enrollment in Class XII (Thousands)', fontsize=14, fontweight='bold')\n",
    "ax.set_title('Class XII Enrollment: Boys vs Girls Across Indian States\\n(Senior Secondary Education Gender Distribution - All States Labeled)', \n",
    "             fontsize=16, fontweight='bold', pad=25)\n",
    "\n",
    "# Add colorbar\n",
    "cbar = plt.colorbar(scatter, ax=ax, shrink=0.8)\n",
    "cbar.set_label('Total Class XII Enrollment (Thousands)', fontsize=12, fontweight='bold')\n",
    "\n",
    "# Add grid and legend\n",
    "ax.grid(True, alpha=0.3, linestyle=':', linewidth=0.5)\n",
    "ax.legend(fontsize=12, loc='upper left')\n",
    "\n",
    "# Extend plot limits to accommodate labels\n",
    "x_margin = max_val * 0.1\n",
    "y_margin = max_val * 0.1\n",
    "ax.set_xlim(-x_margin, max_val + x_margin)\n",
    "ax.set_ylim(-y_margin, max_val + y_margin)\n",
    "\n",
    "# Add interpretation boxes with adjusted positions\n",
    "ax.text(0.02, 0.98, 'Above red line:\\nMore girls than boys', \n",
    "        transform=ax.transAxes, fontsize=11, \n",
    "        bbox=dict(boxstyle=\"round,pad=0.4\", facecolor=\"lightblue\", alpha=0.8),\n",
    "        verticalalignment='top', fontweight='bold')\n",
    "\n",
    "ax.text(0.02, 0.88, 'Below red line:\\nMore boys than girls', \n",
    "        transform=ax.transAxes, fontsize=11,\n",
    "        bbox=dict(boxstyle=\"round,pad=0.4\", facecolor=\"lightcoral\", alpha=0.8),\n",
    "        verticalalignment='top', fontweight='bold')\n",
    "\n",
    "# Add note about the visualization\n",
    "ax.text(0.98, 0.02, 'Note: All Indian states and UTs are labeled\\nBubble size indicates total enrollment', \n",
    "        transform=ax.transAxes, fontsize=10,\n",
    "        bbox=dict(boxstyle=\"round,pad=0.4\", facecolor=\"lightyellow\", alpha=0.8),\n",
    "        verticalalignment='bottom', horizontalalignment='right', style='italic')\n",
    "\n",
    "# Adjust layout with more padding for labels\n",
    "plt.subplots_adjust(left=0.08, bottom=0.08, right=0.92, top=0.92)\n",
    "plt.show()\n",
    "\n",
    "# Analysis summary\n",
    "print(\"📊 Class XII Scatter Plot Analysis:\")\n",
    "print(\"=\" * 50)\n",
    "\n",
    "# Calculate basic gender statistics\n",
    "boys_total = class_12_data['Class_XII_Boys'].sum()\n",
    "girls_total = class_12_data['Class_XII_Girls'].sum()\n",
    "gender_gap = abs(boys_total - girls_total)\n",
    "percent_gap = (gender_gap / (boys_total + girls_total)) * 100\n",
    "\n",
    "print(f\"• Total boys enrolled: {boys_total:,.0f}\")\n",
    "print(f\"• Total girls enrolled: {girls_total:,.0f}\")\n",
    "print(f\"• Gender gap: {gender_gap:,.0f} students ({percent_gap:.1f}%)\")\n",
    "print(f\"• {'Boys' if boys_total > girls_total else 'Girls'} have higher enrollment nationally\")\n",
    "\n",
    "# States above and below parity line\n",
    "above_line = class_12_data[class_12_data['Class_XII_Girls'] > class_12_data['Class_XII_Boys']]\n",
    "below_line = class_12_data[class_12_data['Class_XII_Boys'] > class_12_data['Class_XII_Girls']]\n",
    "\n",
    "print(f\"\\n📈 State Distribution:\")\n",
    "print(f\"• {len(above_line)} states have more girls than boys in Class XII\")\n",
    "print(f\"• {len(below_line)} states have more boys than girls in Class XII\")\n",
    "\n",
    "if len(above_line) > 0:\n",
    "    print(f\"\\nStates with more girls in Class XII (top 5 by difference):\")\n",
    "    girls_advantage = above_line.copy()\n",
    "    girls_advantage['Girls_Advantage'] = girls_advantage['Class_XII_Girls'] - girls_advantage['Class_XII_Boys']\n",
    "    for _, row in girls_advantage.nlargest(5, 'Girls_Advantage').iterrows():\n",
    "        print(f\"  • {row['State']}: +{row['Girls_Advantage']:,.0f} more girls\")\n",
    "\n",
    "if len(below_line) > 0:\n",
    "    print(f\"\\nStates with more boys in Class XII (top 5 by difference):\")\n",
    "    boys_advantage = below_line.copy()\n",
    "    boys_advantage['Boys_Advantage'] = boys_advantage['Class_XII_Boys'] - boys_advantage['Class_XII_Girls']\n",
    "    for _, row in boys_advantage.nlargest(5, 'Boys_Advantage').iterrows():\n",
    "        print(f\"  • {row['State']}: +{row['Boys_Advantage']:,.0f} more boys\")"
   ]
  },
  {
   "cell_type": "code",
   "execution_count": 13,
   "id": "889f8bc4",
   "metadata": {},
   "outputs": [
    {
     "data": {
      "application/vnd.plotly.v1+json": {
       "config": {
        "plotlyServerURL": "https://plot.ly"
       },
       "data": [
        {
         "customdata": {
          "bdata": "NvMKAJcrAABUjgEA1E8HALSCAgBxMgAAutEFAGVOBAATXgEA+5QBAHNHAQAiigYAzUcFAOPRCgCt4xEAIk4AANkeAACJIgAA1SUAACLRAgDm/QIA6dwJAAEQAABIKAkAZkwAAGEwGADa1gEApkoIAEMQAAAaMAAAjgUAAOQFAADe/gIAPwQAAPExAAA=",
          "dtype": "i4",
          "shape": "35, 1"
         },
         "hovertemplate": "<b>%{hovertext}</b><br><br>Boys Enrollment (Class XII)=%{x:,.0f}<br>Girls Enrollment (Class XII)=%{y:,.0f}<br>Total Enrollment (Class XII)=%{marker.color:,.0f}<extra></extra>",
         "hovertext": [
          "Andhra Pradesh",
          "Arunachal Pradesh",
          "Assam",
          "Bihar",
          "Chhattisgarh",
          "Goa",
          "Gujarat",
          "Haryana",
          "Himachal Pradesh ",
          "Jammu & Kashmir ",
          "Jharkhand",
          "Karnataka",
          "Kerala ",
          "Madhya Pradesh",
          "Maharashtra",
          "Manipur",
          "Meghalaya",
          "Mizoram",
          "Nagaland",
          "Odisha",
          "Punjab ",
          "Rajasthan",
          "Sikkim",
          "Tamil Nadu",
          "Tripura",
          "Uttar Pradesh",
          "Uttarakhand",
          "West Bengal ",
          "A&N Islands",
          "Chandigarh",
          "D&N Haveli",
          "Daman & Diu",
          "Delhi",
          "Lakshadweep ",
          "Puducherry"
         ],
         "legendgroup": "",
         "marker": {
          "color": {
           "bdata": "NvMKAJcrAABUjgEA1E8HALSCAgBxMgAAutEFAGVOBAATXgEA+5QBAHNHAQAiigYAzUcFAOPRCgCt4xEAIk4AANkeAACJIgAA1SUAACLRAgDm/QIA6dwJAAEQAABIKAkAZkwAAGEwGADa1gEApkoIAEMQAAAaMAAAjgUAAOQFAADe/gIAPwQAAPExAAA=",
           "dtype": "i4"
          },
          "coloraxis": "coloraxis",
          "size": {
           "bdata": "NvMKAJcrAABUjgEA1E8HALSCAgBxMgAAutEFAGVOBAATXgEA+5QBAHNHAQAiigYAzUcFAOPRCgCt4xEAIk4AANkeAACJIgAA1SUAACLRAgDm/QIA6dwJAAEQAABIKAkAZkwAAGEwGADa1gEApkoIAEMQAAAaMAAAjgUAAOQFAADe/gIAPwQAAPExAAA=",
           "dtype": "i4"
          },
          "sizemode": "area",
          "sizeref": 3963.1225,
          "symbol": "circle"
         },
         "mode": "markers",
         "name": "",
         "orientation": "v",
         "showlegend": false,
         "type": "scatter",
         "x": {
          "bdata": "IN4FALsXAAA35QAA2GkEAOdsAQBTGAAAklkDAM5HAgCLtwAA3NYAAPyyAABwMAMAQXsCADumBgCrJQoAaCoAALsNAAA7EQAASRQAAE+IAQAcngEA81MGAI8HAADQJwQAJiwAAHlUDgDb/QAAZ4QEAAgIAAA6GQAALwMAABMDAAAqkgEACQIAALMWAAA=",
          "dtype": "i4"
         },
         "xaxis": "x",
         "y": {
          "bdata": "FhUFANwTAAAdqQAA/OUCAM0VAQAeGgAAKHgCAJcGAgCIpgAAH74AAHeUAACyWQMAjMwCAKgrBAACvgcAuiMAAB4RAABOEQAAjBEAANNIAQDKXwEA9ogDAHIIAAB4AAUAQCAAAOjbCQD/2AAAP8YDADsIAADgFgAAXwIAANECAAC0bAEANgIAAD4bAAA=",
          "dtype": "i4"
         },
         "yaxis": "y"
        }
       ],
       "layout": {
        "annotations": [
         {
          "bgcolor": "rgba(255,255,255,0.9)",
          "bordercolor": "black",
          "borderwidth": 1,
          "font": {
           "size": 12
          },
          "showarrow": false,
          "text": "Above line: More Girls<br>Below line: More Boys<br>Bubble size = Total Enrollment",
          "x": 0.02,
          "xref": "paper",
          "y": 0.98,
          "yref": "paper"
         }
        ],
        "coloraxis": {
         "colorbar": {
          "title": {
           "text": "Total Enrollment (Class XII)"
          }
         },
         "colorscale": [
          [
           0,
           "#440154"
          ],
          [
           0.1111111111111111,
           "#482878"
          ],
          [
           0.2222222222222222,
           "#3e4989"
          ],
          [
           0.3333333333333333,
           "#31688e"
          ],
          [
           0.4444444444444444,
           "#26828e"
          ],
          [
           0.5555555555555556,
           "#1f9e89"
          ],
          [
           0.6666666666666666,
           "#35b779"
          ],
          [
           0.7777777777777778,
           "#6ece58"
          ],
          [
           0.8888888888888888,
           "#b5de2b"
          ],
          [
           1,
           "#fde725"
          ]
         ]
        },
        "height": 700,
        "legend": {
         "itemsizing": "constant",
         "tracegroupgap": 0
        },
        "shapes": [
         {
          "line": {
           "color": "red",
           "dash": "dash",
           "width": 3
          },
          "name": "Equal Enrollment",
          "type": "line",
          "x0": 0,
          "x1": 939129,
          "y0": 0,
          "y1": 939129
         }
        ],
        "showlegend": true,
        "template": {
         "data": {
          "bar": [
           {
            "error_x": {
             "color": "#2a3f5f"
            },
            "error_y": {
             "color": "#2a3f5f"
            },
            "marker": {
             "line": {
              "color": "#E5ECF6",
              "width": 0.5
             },
             "pattern": {
              "fillmode": "overlay",
              "size": 10,
              "solidity": 0.2
             }
            },
            "type": "bar"
           }
          ],
          "barpolar": [
           {
            "marker": {
             "line": {
              "color": "#E5ECF6",
              "width": 0.5
             },
             "pattern": {
              "fillmode": "overlay",
              "size": 10,
              "solidity": 0.2
             }
            },
            "type": "barpolar"
           }
          ],
          "carpet": [
           {
            "aaxis": {
             "endlinecolor": "#2a3f5f",
             "gridcolor": "white",
             "linecolor": "white",
             "minorgridcolor": "white",
             "startlinecolor": "#2a3f5f"
            },
            "baxis": {
             "endlinecolor": "#2a3f5f",
             "gridcolor": "white",
             "linecolor": "white",
             "minorgridcolor": "white",
             "startlinecolor": "#2a3f5f"
            },
            "type": "carpet"
           }
          ],
          "choropleth": [
           {
            "colorbar": {
             "outlinewidth": 0,
             "ticks": ""
            },
            "type": "choropleth"
           }
          ],
          "contour": [
           {
            "colorbar": {
             "outlinewidth": 0,
             "ticks": ""
            },
            "colorscale": [
             [
              0,
              "#0d0887"
             ],
             [
              0.1111111111111111,
              "#46039f"
             ],
             [
              0.2222222222222222,
              "#7201a8"
             ],
             [
              0.3333333333333333,
              "#9c179e"
             ],
             [
              0.4444444444444444,
              "#bd3786"
             ],
             [
              0.5555555555555556,
              "#d8576b"
             ],
             [
              0.6666666666666666,
              "#ed7953"
             ],
             [
              0.7777777777777778,
              "#fb9f3a"
             ],
             [
              0.8888888888888888,
              "#fdca26"
             ],
             [
              1,
              "#f0f921"
             ]
            ],
            "type": "contour"
           }
          ],
          "contourcarpet": [
           {
            "colorbar": {
             "outlinewidth": 0,
             "ticks": ""
            },
            "type": "contourcarpet"
           }
          ],
          "heatmap": [
           {
            "colorbar": {
             "outlinewidth": 0,
             "ticks": ""
            },
            "colorscale": [
             [
              0,
              "#0d0887"
             ],
             [
              0.1111111111111111,
              "#46039f"
             ],
             [
              0.2222222222222222,
              "#7201a8"
             ],
             [
              0.3333333333333333,
              "#9c179e"
             ],
             [
              0.4444444444444444,
              "#bd3786"
             ],
             [
              0.5555555555555556,
              "#d8576b"
             ],
             [
              0.6666666666666666,
              "#ed7953"
             ],
             [
              0.7777777777777778,
              "#fb9f3a"
             ],
             [
              0.8888888888888888,
              "#fdca26"
             ],
             [
              1,
              "#f0f921"
             ]
            ],
            "type": "heatmap"
           }
          ],
          "histogram": [
           {
            "marker": {
             "pattern": {
              "fillmode": "overlay",
              "size": 10,
              "solidity": 0.2
             }
            },
            "type": "histogram"
           }
          ],
          "histogram2d": [
           {
            "colorbar": {
             "outlinewidth": 0,
             "ticks": ""
            },
            "colorscale": [
             [
              0,
              "#0d0887"
             ],
             [
              0.1111111111111111,
              "#46039f"
             ],
             [
              0.2222222222222222,
              "#7201a8"
             ],
             [
              0.3333333333333333,
              "#9c179e"
             ],
             [
              0.4444444444444444,
              "#bd3786"
             ],
             [
              0.5555555555555556,
              "#d8576b"
             ],
             [
              0.6666666666666666,
              "#ed7953"
             ],
             [
              0.7777777777777778,
              "#fb9f3a"
             ],
             [
              0.8888888888888888,
              "#fdca26"
             ],
             [
              1,
              "#f0f921"
             ]
            ],
            "type": "histogram2d"
           }
          ],
          "histogram2dcontour": [
           {
            "colorbar": {
             "outlinewidth": 0,
             "ticks": ""
            },
            "colorscale": [
             [
              0,
              "#0d0887"
             ],
             [
              0.1111111111111111,
              "#46039f"
             ],
             [
              0.2222222222222222,
              "#7201a8"
             ],
             [
              0.3333333333333333,
              "#9c179e"
             ],
             [
              0.4444444444444444,
              "#bd3786"
             ],
             [
              0.5555555555555556,
              "#d8576b"
             ],
             [
              0.6666666666666666,
              "#ed7953"
             ],
             [
              0.7777777777777778,
              "#fb9f3a"
             ],
             [
              0.8888888888888888,
              "#fdca26"
             ],
             [
              1,
              "#f0f921"
             ]
            ],
            "type": "histogram2dcontour"
           }
          ],
          "mesh3d": [
           {
            "colorbar": {
             "outlinewidth": 0,
             "ticks": ""
            },
            "type": "mesh3d"
           }
          ],
          "parcoords": [
           {
            "line": {
             "colorbar": {
              "outlinewidth": 0,
              "ticks": ""
             }
            },
            "type": "parcoords"
           }
          ],
          "pie": [
           {
            "automargin": true,
            "type": "pie"
           }
          ],
          "scatter": [
           {
            "fillpattern": {
             "fillmode": "overlay",
             "size": 10,
             "solidity": 0.2
            },
            "type": "scatter"
           }
          ],
          "scatter3d": [
           {
            "line": {
             "colorbar": {
              "outlinewidth": 0,
              "ticks": ""
             }
            },
            "marker": {
             "colorbar": {
              "outlinewidth": 0,
              "ticks": ""
             }
            },
            "type": "scatter3d"
           }
          ],
          "scattercarpet": [
           {
            "marker": {
             "colorbar": {
              "outlinewidth": 0,
              "ticks": ""
             }
            },
            "type": "scattercarpet"
           }
          ],
          "scattergeo": [
           {
            "marker": {
             "colorbar": {
              "outlinewidth": 0,
              "ticks": ""
             }
            },
            "type": "scattergeo"
           }
          ],
          "scattergl": [
           {
            "marker": {
             "colorbar": {
              "outlinewidth": 0,
              "ticks": ""
             }
            },
            "type": "scattergl"
           }
          ],
          "scattermap": [
           {
            "marker": {
             "colorbar": {
              "outlinewidth": 0,
              "ticks": ""
             }
            },
            "type": "scattermap"
           }
          ],
          "scattermapbox": [
           {
            "marker": {
             "colorbar": {
              "outlinewidth": 0,
              "ticks": ""
             }
            },
            "type": "scattermapbox"
           }
          ],
          "scatterpolar": [
           {
            "marker": {
             "colorbar": {
              "outlinewidth": 0,
              "ticks": ""
             }
            },
            "type": "scatterpolar"
           }
          ],
          "scatterpolargl": [
           {
            "marker": {
             "colorbar": {
              "outlinewidth": 0,
              "ticks": ""
             }
            },
            "type": "scatterpolargl"
           }
          ],
          "scatterternary": [
           {
            "marker": {
             "colorbar": {
              "outlinewidth": 0,
              "ticks": ""
             }
            },
            "type": "scatterternary"
           }
          ],
          "surface": [
           {
            "colorbar": {
             "outlinewidth": 0,
             "ticks": ""
            },
            "colorscale": [
             [
              0,
              "#0d0887"
             ],
             [
              0.1111111111111111,
              "#46039f"
             ],
             [
              0.2222222222222222,
              "#7201a8"
             ],
             [
              0.3333333333333333,
              "#9c179e"
             ],
             [
              0.4444444444444444,
              "#bd3786"
             ],
             [
              0.5555555555555556,
              "#d8576b"
             ],
             [
              0.6666666666666666,
              "#ed7953"
             ],
             [
              0.7777777777777778,
              "#fb9f3a"
             ],
             [
              0.8888888888888888,
              "#fdca26"
             ],
             [
              1,
              "#f0f921"
             ]
            ],
            "type": "surface"
           }
          ],
          "table": [
           {
            "cells": {
             "fill": {
              "color": "#EBF0F8"
             },
             "line": {
              "color": "white"
             }
            },
            "header": {
             "fill": {
              "color": "#C8D4E3"
             },
             "line": {
              "color": "white"
             }
            },
            "type": "table"
           }
          ]
         },
         "layout": {
          "annotationdefaults": {
           "arrowcolor": "#2a3f5f",
           "arrowhead": 0,
           "arrowwidth": 1
          },
          "autotypenumbers": "strict",
          "coloraxis": {
           "colorbar": {
            "outlinewidth": 0,
            "ticks": ""
           }
          },
          "colorscale": {
           "diverging": [
            [
             0,
             "#8e0152"
            ],
            [
             0.1,
             "#c51b7d"
            ],
            [
             0.2,
             "#de77ae"
            ],
            [
             0.3,
             "#f1b6da"
            ],
            [
             0.4,
             "#fde0ef"
            ],
            [
             0.5,
             "#f7f7f7"
            ],
            [
             0.6,
             "#e6f5d0"
            ],
            [
             0.7,
             "#b8e186"
            ],
            [
             0.8,
             "#7fbc41"
            ],
            [
             0.9,
             "#4d9221"
            ],
            [
             1,
             "#276419"
            ]
           ],
           "sequential": [
            [
             0,
             "#0d0887"
            ],
            [
             0.1111111111111111,
             "#46039f"
            ],
            [
             0.2222222222222222,
             "#7201a8"
            ],
            [
             0.3333333333333333,
             "#9c179e"
            ],
            [
             0.4444444444444444,
             "#bd3786"
            ],
            [
             0.5555555555555556,
             "#d8576b"
            ],
            [
             0.6666666666666666,
             "#ed7953"
            ],
            [
             0.7777777777777778,
             "#fb9f3a"
            ],
            [
             0.8888888888888888,
             "#fdca26"
            ],
            [
             1,
             "#f0f921"
            ]
           ],
           "sequentialminus": [
            [
             0,
             "#0d0887"
            ],
            [
             0.1111111111111111,
             "#46039f"
            ],
            [
             0.2222222222222222,
             "#7201a8"
            ],
            [
             0.3333333333333333,
             "#9c179e"
            ],
            [
             0.4444444444444444,
             "#bd3786"
            ],
            [
             0.5555555555555556,
             "#d8576b"
            ],
            [
             0.6666666666666666,
             "#ed7953"
            ],
            [
             0.7777777777777778,
             "#fb9f3a"
            ],
            [
             0.8888888888888888,
             "#fdca26"
            ],
            [
             1,
             "#f0f921"
            ]
           ]
          },
          "colorway": [
           "#636efa",
           "#EF553B",
           "#00cc96",
           "#ab63fa",
           "#FFA15A",
           "#19d3f3",
           "#FF6692",
           "#B6E880",
           "#FF97FF",
           "#FECB52"
          ],
          "font": {
           "color": "#2a3f5f"
          },
          "geo": {
           "bgcolor": "white",
           "lakecolor": "white",
           "landcolor": "#E5ECF6",
           "showlakes": true,
           "showland": true,
           "subunitcolor": "white"
          },
          "hoverlabel": {
           "align": "left"
          },
          "hovermode": "closest",
          "mapbox": {
           "style": "light"
          },
          "paper_bgcolor": "white",
          "plot_bgcolor": "#E5ECF6",
          "polar": {
           "angularaxis": {
            "gridcolor": "white",
            "linecolor": "white",
            "ticks": ""
           },
           "bgcolor": "#E5ECF6",
           "radialaxis": {
            "gridcolor": "white",
            "linecolor": "white",
            "ticks": ""
           }
          },
          "scene": {
           "xaxis": {
            "backgroundcolor": "#E5ECF6",
            "gridcolor": "white",
            "gridwidth": 2,
            "linecolor": "white",
            "showbackground": true,
            "ticks": "",
            "zerolinecolor": "white"
           },
           "yaxis": {
            "backgroundcolor": "#E5ECF6",
            "gridcolor": "white",
            "gridwidth": 2,
            "linecolor": "white",
            "showbackground": true,
            "ticks": "",
            "zerolinecolor": "white"
           },
           "zaxis": {
            "backgroundcolor": "#E5ECF6",
            "gridcolor": "white",
            "gridwidth": 2,
            "linecolor": "white",
            "showbackground": true,
            "ticks": "",
            "zerolinecolor": "white"
           }
          },
          "shapedefaults": {
           "line": {
            "color": "#2a3f5f"
           }
          },
          "ternary": {
           "aaxis": {
            "gridcolor": "white",
            "linecolor": "white",
            "ticks": ""
           },
           "baxis": {
            "gridcolor": "white",
            "linecolor": "white",
            "ticks": ""
           },
           "bgcolor": "#E5ECF6",
           "caxis": {
            "gridcolor": "white",
            "linecolor": "white",
            "ticks": ""
           }
          },
          "title": {
           "x": 0.05
          },
          "xaxis": {
           "automargin": true,
           "gridcolor": "white",
           "linecolor": "white",
           "ticks": "",
           "title": {
            "standoff": 15
           },
           "zerolinecolor": "white",
           "zerolinewidth": 2
          },
          "yaxis": {
           "automargin": true,
           "gridcolor": "white",
           "linecolor": "white",
           "ticks": "",
           "title": {
            "standoff": 15
           },
           "zerolinecolor": "white",
           "zerolinewidth": 2
          }
         }
        },
        "title": {
         "font": {
          "size": 16
         },
         "text": "Interactive Class XII Enrollment: Boys vs Girls by State"
        },
        "width": 900,
        "xaxis": {
         "anchor": "y",
         "domain": [
          0,
          1
         ],
         "title": {
          "font": {
           "size": 14
          },
          "text": "Boys Enrollment (Class XII)"
         }
        },
        "yaxis": {
         "anchor": "x",
         "domain": [
          0,
          1
         ],
         "title": {
          "font": {
           "size": 14
          },
          "text": "Girls Enrollment (Class XII)"
         }
        }
       }
      }
     },
     "metadata": {},
     "output_type": "display_data"
    },
    {
     "name": "stdout",
     "output_type": "stream",
     "text": [
      "\n",
      "📋 DETAILED CLASS XII ENROLLMENT BY STATE\n",
      "======================================================================\n",
      "Top 15 States by Class XII Enrollment:\n",
      "----------------------------------------------------------------------\n",
      "Rank State                Boys     Girls    Total    Gap      Status      \n",
      "----------------------------------------------------------------------\n",
      "1    Uttar Pradesh        939,129  646,120  1,585,249 293,009  More Boys   \n",
      "2    Maharashtra          665,003  507,394  1,172,397 157,609  More Boys   \n",
      "3    Andhra Pradesh       384,544  333,078  717,622  51,466   More Boys   \n",
      "4    Madhya Pradesh       435,771  273,320  709,091  162,451  More Boys   \n",
      "5    Rajasthan            414,707  231,670  646,377  183,037  More Boys   \n",
      "6    Tamil Nadu           272,336  327,800  600,136  55,464   More Girls  \n",
      "7    West Bengal          296,039  247,359  543,398  48,680   More Boys   \n",
      "8    Bihar                289,240  189,948  479,188  99,292   More Boys   \n",
      "9    Karnataka            209,008  219,570  428,578  10,562   More Girls  \n",
      "10   Gujarat              219,538  161,832  381,370  57,706   More Boys   \n",
      "11   Kerala               162,625  183,436  346,061  20,811   More Girls  \n",
      "12   Haryana              149,454  132,759  282,213  16,695   More Boys   \n",
      "13   Delhi                102,954  93,364   196,318  9,590    More Boys   \n",
      "14   Punjab               106,012  90,058   196,070  15,954   More Boys   \n",
      "15   Odisha               100,431  84,179   184,610  16,252   More Boys   \n",
      "\n",
      "🎯 KEY INSIGHTS FROM CLASS XII ANALYSIS:\n",
      "--------------------------------------------------\n",
      "• Strong correlation between boys and girls enrollment: 0.977\n",
      "\n",
      "🏆 Most Gender-Balanced States in Class XII:\n",
      "  • Mizoram: 49.9% Boys, 50.1% Girls\n",
      "  • A&N Islands: 49.4% Boys, 50.6% Girls\n",
      "  • Karnataka: 48.8% Boys, 51.2% Girls\n",
      "  • Goa: 48.2% Boys, 51.8% Girls\n",
      "  • Lakshadweep : 47.9% Boys, 52.1% Girls\n",
      "\n",
      "⚠️ States with Highest Gender Imbalance in Class XII:\n",
      "  • Rajasthan: 64.2% Boys, 35.8% Girls (Boys dominant)\n",
      "  • Madhya Pradesh: 61.5% Boys, 38.5% Girls (Boys dominant)\n",
      "  • Bihar: 60.4% Boys, 39.6% Girls (Boys dominant)\n",
      "  • Uttar Pradesh: 59.2% Boys, 40.8% Girls (Boys dominant)\n",
      "  • Tripura: 57.8% Boys, 42.2% Girls (Boys dominant)\n",
      "\n",
      "💡 INTERPRETATION:\n",
      "• Points near the diagonal line indicate balanced gender enrollment\n",
      "• Distance from the line shows the magnitude of gender disparity\n",
      "• Larger bubbles represent states with higher total Class XII enrollment\n",
      "• This direct comparison reveals enrollment patterns without ratio calculations\n"
     ]
    }
   ],
   "source": [
    "# Create an interactive Class XII scatter plot using Plotly\n",
    "fig_class12 = px.scatter(class_12_data, \n",
    "                         x='Class_XII_Boys', \n",
    "                         y='Class_XII_Girls',\n",
    "                         size='Class_XII_Total',\n",
    "                         color='Class_XII_Total',\n",
    "                         hover_name='State',\n",
    "                         hover_data={\n",
    "                             'Class_XII_Boys': ':,.0f',\n",
    "                             'Class_XII_Girls': ':,.0f',\n",
    "                             'Class_XII_Total': ':,.0f'\n",
    "                         },\n",
    "                         color_continuous_scale='Viridis',\n",
    "                         title='Interactive Class XII Enrollment: Boys vs Girls by State',\n",
    "                         labels={\n",
    "                             'Class_XII_Boys': 'Boys Enrollment (Class XII)',\n",
    "                             'Class_XII_Girls': 'Girls Enrollment (Class XII)',\n",
    "                             'Class_XII_Total': 'Total Enrollment (Class XII)'\n",
    "                         })\n",
    "\n",
    "# Add perfect parity line\n",
    "max_val_12 = max(class_12_data['Class_XII_Boys'].max(), class_12_data['Class_XII_Girls'].max())\n",
    "fig_class12.add_shape(\n",
    "    type=\"line\",\n",
    "    x0=0, y0=0, x1=max_val_12, y1=max_val_12,\n",
    "    line=dict(color=\"red\", width=3, dash=\"dash\"),\n",
    "    name=\"Equal Enrollment\"\n",
    ")\n",
    "\n",
    "# Update layout\n",
    "fig_class12.update_layout(\n",
    "    width=900,\n",
    "    height=700,\n",
    "    showlegend=True,\n",
    "    title_font_size=16,\n",
    "    xaxis_title_font_size=14,\n",
    "    yaxis_title_font_size=14\n",
    ")\n",
    "\n",
    "# Add annotations\n",
    "fig_class12.add_annotation(\n",
    "    x=0.02, y=0.98,\n",
    "    xref=\"paper\", yref=\"paper\",\n",
    "    text=\"Above line: More Girls<br>Below line: More Boys<br>Bubble size = Total Enrollment\",\n",
    "    showarrow=False,\n",
    "    bgcolor=\"rgba(255,255,255,0.9)\",\n",
    "    bordercolor=\"black\",\n",
    "    borderwidth=1,\n",
    "    font=dict(size=12)\n",
    ")\n",
    "\n",
    "fig_class12.show()\n",
    "\n",
    "# Detailed state-wise analysis table\n",
    "print(\"\\n📋 DETAILED CLASS XII ENROLLMENT BY STATE\")\n",
    "print(\"=\" * 70)\n",
    "\n",
    "# Create a comprehensive analysis table\n",
    "analysis_table = class_12_data[['State', 'Class_XII_Boys', 'Class_XII_Girls', 'Class_XII_Total']].copy()\n",
    "analysis_table['Gender_Difference'] = analysis_table['Class_XII_Boys'] - analysis_table['Class_XII_Girls']\n",
    "analysis_table['Percent_Boys'] = (analysis_table['Class_XII_Boys'] / analysis_table['Class_XII_Total'] * 100).round(1)\n",
    "analysis_table['Percent_Girls'] = (analysis_table['Class_XII_Girls'] / analysis_table['Class_XII_Total'] * 100).round(1)\n",
    "analysis_table['Gender_Status'] = analysis_table['Gender_Difference'].apply(\n",
    "    lambda x: 'More Boys' if x > 0 else 'More Girls' if x < 0 else 'Equal'\n",
    ")\n",
    "\n",
    "# Sort by total enrollment\n",
    "analysis_table = analysis_table.sort_values('Class_XII_Total', ascending=False)\n",
    "\n",
    "print(\"Top 15 States by Class XII Enrollment:\")\n",
    "print(\"-\" * 70)\n",
    "print(f\"{'Rank':<4} {'State':<20} {'Boys':<8} {'Girls':<8} {'Total':<8} {'Gap':<8} {'Status':<12}\")\n",
    "print(\"-\" * 70)\n",
    "\n",
    "for i, (_, row) in enumerate(analysis_table.head(15).iterrows(), 1):\n",
    "    gap = abs(row['Gender_Difference'])\n",
    "    print(f\"{i:<4} {row['State']:<20} {row['Class_XII_Boys']:<8,.0f} {row['Class_XII_Girls']:<8,.0f} \"\n",
    "          f\"{row['Class_XII_Total']:<8,.0f} {gap:<8,.0f} {row['Gender_Status']:<12}\")\n",
    "\n",
    "# Summary insights\n",
    "print(f\"\\n🎯 KEY INSIGHTS FROM CLASS XII ANALYSIS:\")\n",
    "print(\"-\" * 50)\n",
    "\n",
    "# Calculate correlation\n",
    "correlation = class_12_data['Class_XII_Boys'].corr(class_12_data['Class_XII_Girls'])\n",
    "print(f\"• Strong correlation between boys and girls enrollment: {correlation:.3f}\")\n",
    "\n",
    "# Find most balanced states\n",
    "analysis_table['Balance_Score'] = abs(analysis_table['Percent_Boys'] - 50.0)\n",
    "most_balanced = analysis_table.nsmallest(5, 'Balance_Score')\n",
    "print(f\"\\n🏆 Most Gender-Balanced States in Class XII:\")\n",
    "for _, row in most_balanced.iterrows():\n",
    "    print(f\"  • {row['State']}: {row['Percent_Boys']:.1f}% Boys, {row['Percent_Girls']:.1f}% Girls\")\n",
    "\n",
    "# States with highest gender imbalance\n",
    "most_imbalanced = analysis_table.nlargest(5, 'Balance_Score')\n",
    "print(f\"\\n⚠️ States with Highest Gender Imbalance in Class XII:\")\n",
    "for _, row in most_imbalanced.iterrows():\n",
    "    dominant = 'Boys' if row['Percent_Boys'] > 50 else 'Girls'\n",
    "    print(f\"  • {row['State']}: {row['Percent_Boys']:.1f}% Boys, {row['Percent_Girls']:.1f}% Girls ({dominant} dominant)\")\n",
    "\n",
    "print(f\"\\n💡 INTERPRETATION:\")\n",
    "print(\"• Points near the diagonal line indicate balanced gender enrollment\")\n",
    "print(\"• Distance from the line shows the magnitude of gender disparity\") \n",
    "print(\"• Larger bubbles represent states with higher total Class XII enrollment\")\n",
    "print(\"• This direct comparison reveals enrollment patterns without ratio calculations\")"
   ]
  }
 ],
 "metadata": {
  "kernelspec": {
   "display_name": "Python 3",
   "language": "python",
   "name": "python3"
  },
  "language_info": {
   "codemirror_mode": {
    "name": "ipython",
    "version": 3
   },
   "file_extension": ".py",
   "mimetype": "text/x-python",
   "name": "python",
   "nbconvert_exporter": "python",
   "pygments_lexer": "ipython3",
   "version": "3.12.5"
  }
 },
 "nbformat": 4,
 "nbformat_minor": 5
}
